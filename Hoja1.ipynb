{
 "cells": [
  {
   "cell_type": "markdown",
   "id": "1a02123d-06a2-45c5-b6ea-3f1bf04588e9",
   "metadata": {},
   "source": [
    "# Exploración del Reto"
   ]
  },
  {
   "cell_type": "markdown",
   "id": "c13c23f0-8540-45f7-950f-07bb1b85de60",
   "metadata": {},
   "source": [
    "### Importar librerías"
   ]
  },
  {
   "cell_type": "code",
   "execution_count": 154,
   "id": "4bf12bdb-c600-4127-83c9-57521b7e88b9",
   "metadata": {},
   "outputs": [],
   "source": [
    "import pandas as pd\n",
    "import numpy as np \n",
    "import matplotlib.pyplot as plt\n",
    "import seaborn\n",
    "seaborn.set()"
   ]
  },
  {
   "cell_type": "markdown",
   "id": "0c8b6cad-3fb0-4d3d-b002-24f80ba2fbfb",
   "metadata": {},
   "source": [
    "### Load the data"
   ]
  },
  {
   "cell_type": "code",
   "execution_count": 155,
   "id": "dfaba919-e817-4153-aa68-83b86bbb4e3b",
   "metadata": {},
   "outputs": [
    {
     "data": {
      "text/html": [
       "<div>\n",
       "<style scoped>\n",
       "    .dataframe tbody tr th:only-of-type {\n",
       "        vertical-align: middle;\n",
       "    }\n",
       "\n",
       "    .dataframe tbody tr th {\n",
       "        vertical-align: top;\n",
       "    }\n",
       "\n",
       "    .dataframe thead th {\n",
       "        text-align: right;\n",
       "    }\n",
       "</style>\n",
       "<table border=\"1\" class=\"dataframe\">\n",
       "  <thead>\n",
       "    <tr style=\"text-align: right;\">\n",
       "      <th></th>\n",
       "      <th>id</th>\n",
       "      <th>id_android</th>\n",
       "      <th>speed</th>\n",
       "      <th>time</th>\n",
       "      <th>distance</th>\n",
       "      <th>rating</th>\n",
       "      <th>rating_bus</th>\n",
       "      <th>rating_weather</th>\n",
       "      <th>car_or_bus</th>\n",
       "      <th>linha</th>\n",
       "    </tr>\n",
       "  </thead>\n",
       "  <tbody>\n",
       "    <tr>\n",
       "      <th>0</th>\n",
       "      <td>1</td>\n",
       "      <td>0</td>\n",
       "      <td>19.210586</td>\n",
       "      <td>0.138049</td>\n",
       "      <td>2.652</td>\n",
       "      <td>3</td>\n",
       "      <td>0</td>\n",
       "      <td>0</td>\n",
       "      <td>1</td>\n",
       "      <td>NaN</td>\n",
       "    </tr>\n",
       "    <tr>\n",
       "      <th>1</th>\n",
       "      <td>2</td>\n",
       "      <td>0</td>\n",
       "      <td>30.848229</td>\n",
       "      <td>0.171485</td>\n",
       "      <td>5.290</td>\n",
       "      <td>3</td>\n",
       "      <td>0</td>\n",
       "      <td>0</td>\n",
       "      <td>1</td>\n",
       "      <td>NaN</td>\n",
       "    </tr>\n",
       "    <tr>\n",
       "      <th>2</th>\n",
       "      <td>3</td>\n",
       "      <td>1</td>\n",
       "      <td>13.560101</td>\n",
       "      <td>0.067699</td>\n",
       "      <td>0.918</td>\n",
       "      <td>3</td>\n",
       "      <td>0</td>\n",
       "      <td>0</td>\n",
       "      <td>2</td>\n",
       "      <td>NaN</td>\n",
       "    </tr>\n",
       "    <tr>\n",
       "      <th>3</th>\n",
       "      <td>4</td>\n",
       "      <td>1</td>\n",
       "      <td>19.766679</td>\n",
       "      <td>0.389544</td>\n",
       "      <td>7.700</td>\n",
       "      <td>3</td>\n",
       "      <td>0</td>\n",
       "      <td>0</td>\n",
       "      <td>2</td>\n",
       "      <td>NaN</td>\n",
       "    </tr>\n",
       "    <tr>\n",
       "      <th>4</th>\n",
       "      <td>8</td>\n",
       "      <td>0</td>\n",
       "      <td>25.807401</td>\n",
       "      <td>0.154801</td>\n",
       "      <td>3.995</td>\n",
       "      <td>2</td>\n",
       "      <td>0</td>\n",
       "      <td>0</td>\n",
       "      <td>1</td>\n",
       "      <td>NaN</td>\n",
       "    </tr>\n",
       "    <tr>\n",
       "      <th>...</th>\n",
       "      <td>...</td>\n",
       "      <td>...</td>\n",
       "      <td>...</td>\n",
       "      <td>...</td>\n",
       "      <td>...</td>\n",
       "      <td>...</td>\n",
       "      <td>...</td>\n",
       "      <td>...</td>\n",
       "      <td>...</td>\n",
       "      <td>...</td>\n",
       "    </tr>\n",
       "    <tr>\n",
       "      <th>158</th>\n",
       "      <td>38081</td>\n",
       "      <td>24</td>\n",
       "      <td>30.051732</td>\n",
       "      <td>0.218756</td>\n",
       "      <td>6.574</td>\n",
       "      <td>2</td>\n",
       "      <td>0</td>\n",
       "      <td>0</td>\n",
       "      <td>1</td>\n",
       "      <td>carro</td>\n",
       "    </tr>\n",
       "    <tr>\n",
       "      <th>159</th>\n",
       "      <td>38082</td>\n",
       "      <td>24</td>\n",
       "      <td>30.173788</td>\n",
       "      <td>0.255387</td>\n",
       "      <td>7.706</td>\n",
       "      <td>3</td>\n",
       "      <td>0</td>\n",
       "      <td>0</td>\n",
       "      <td>1</td>\n",
       "      <td>carro</td>\n",
       "    </tr>\n",
       "    <tr>\n",
       "      <th>160</th>\n",
       "      <td>38084</td>\n",
       "      <td>25</td>\n",
       "      <td>1.153772</td>\n",
       "      <td>0.013001</td>\n",
       "      <td>0.015</td>\n",
       "      <td>1</td>\n",
       "      <td>3</td>\n",
       "      <td>2</td>\n",
       "      <td>2</td>\n",
       "      <td>721 - CASTELO BRANCO SUISSA</td>\n",
       "    </tr>\n",
       "    <tr>\n",
       "      <th>161</th>\n",
       "      <td>38090</td>\n",
       "      <td>26</td>\n",
       "      <td>0.843223</td>\n",
       "      <td>0.007116</td>\n",
       "      <td>0.006</td>\n",
       "      <td>3</td>\n",
       "      <td>1</td>\n",
       "      <td>2</td>\n",
       "      <td>2</td>\n",
       "      <td>002 - FERNANDO COLLOR DIA</td>\n",
       "    </tr>\n",
       "    <tr>\n",
       "      <th>162</th>\n",
       "      <td>38092</td>\n",
       "      <td>27</td>\n",
       "      <td>1.372998</td>\n",
       "      <td>0.016752</td>\n",
       "      <td>0.023</td>\n",
       "      <td>3</td>\n",
       "      <td>1</td>\n",
       "      <td>2</td>\n",
       "      <td>2</td>\n",
       "      <td>060 - PADRE PEDRO CAMPUS</td>\n",
       "    </tr>\n",
       "  </tbody>\n",
       "</table>\n",
       "<p>163 rows × 10 columns</p>\n",
       "</div>"
      ],
      "text/plain": [
       "        id  id_android      speed      time  distance  rating  rating_bus  \\\n",
       "0        1           0  19.210586  0.138049     2.652       3           0   \n",
       "1        2           0  30.848229  0.171485     5.290       3           0   \n",
       "2        3           1  13.560101  0.067699     0.918       3           0   \n",
       "3        4           1  19.766679  0.389544     7.700       3           0   \n",
       "4        8           0  25.807401  0.154801     3.995       2           0   \n",
       "..     ...         ...        ...       ...       ...     ...         ...   \n",
       "158  38081          24  30.051732  0.218756     6.574       2           0   \n",
       "159  38082          24  30.173788  0.255387     7.706       3           0   \n",
       "160  38084          25   1.153772  0.013001     0.015       1           3   \n",
       "161  38090          26   0.843223  0.007116     0.006       3           1   \n",
       "162  38092          27   1.372998  0.016752     0.023       3           1   \n",
       "\n",
       "     rating_weather  car_or_bus                        linha  \n",
       "0                 0           1                          NaN  \n",
       "1                 0           1                          NaN  \n",
       "2                 0           2                          NaN  \n",
       "3                 0           2                          NaN  \n",
       "4                 0           1                          NaN  \n",
       "..              ...         ...                          ...  \n",
       "158               0           1                        carro  \n",
       "159               0           1                        carro  \n",
       "160               2           2  721 - CASTELO BRANCO SUISSA  \n",
       "161               2           2    002 - FERNANDO COLLOR DIA  \n",
       "162               2           2     060 - PADRE PEDRO CAMPUS  \n",
       "\n",
       "[163 rows x 10 columns]"
      ]
     },
     "execution_count": 155,
     "metadata": {},
     "output_type": "execute_result"
    }
   ],
   "source": [
    "data_tracks = pd.read_csv(\"go_track_tracks.csv\")\n",
    "data_trackpoints = pd.read_csv(\"go_track_trackspoints.csv\")\n",
    "data_tracks"
   ]
  },
  {
   "cell_type": "code",
   "execution_count": 156,
   "id": "b1fd4a47-81c3-49da-bd79-2cccb529f05e",
   "metadata": {},
   "outputs": [
    {
     "data": {
      "text/html": [
       "<div>\n",
       "<style scoped>\n",
       "    .dataframe tbody tr th:only-of-type {\n",
       "        vertical-align: middle;\n",
       "    }\n",
       "\n",
       "    .dataframe tbody tr th {\n",
       "        vertical-align: top;\n",
       "    }\n",
       "\n",
       "    .dataframe thead th {\n",
       "        text-align: right;\n",
       "    }\n",
       "</style>\n",
       "<table border=\"1\" class=\"dataframe\">\n",
       "  <thead>\n",
       "    <tr style=\"text-align: right;\">\n",
       "      <th></th>\n",
       "      <th>id</th>\n",
       "      <th>latitude</th>\n",
       "      <th>longitude</th>\n",
       "      <th>track_id</th>\n",
       "      <th>time</th>\n",
       "    </tr>\n",
       "  </thead>\n",
       "  <tbody>\n",
       "    <tr>\n",
       "      <th>0</th>\n",
       "      <td>1</td>\n",
       "      <td>-10.939341</td>\n",
       "      <td>-37.062742</td>\n",
       "      <td>1</td>\n",
       "      <td>2014-09-13 07:24:32</td>\n",
       "    </tr>\n",
       "    <tr>\n",
       "      <th>1</th>\n",
       "      <td>2</td>\n",
       "      <td>-10.939341</td>\n",
       "      <td>-37.062742</td>\n",
       "      <td>1</td>\n",
       "      <td>2014-09-13 07:24:37</td>\n",
       "    </tr>\n",
       "    <tr>\n",
       "      <th>2</th>\n",
       "      <td>3</td>\n",
       "      <td>-10.939324</td>\n",
       "      <td>-37.062765</td>\n",
       "      <td>1</td>\n",
       "      <td>2014-09-13 07:24:42</td>\n",
       "    </tr>\n",
       "    <tr>\n",
       "      <th>3</th>\n",
       "      <td>4</td>\n",
       "      <td>-10.939211</td>\n",
       "      <td>-37.062843</td>\n",
       "      <td>1</td>\n",
       "      <td>2014-09-13 07:24:47</td>\n",
       "    </tr>\n",
       "    <tr>\n",
       "      <th>4</th>\n",
       "      <td>5</td>\n",
       "      <td>-10.938939</td>\n",
       "      <td>-37.062879</td>\n",
       "      <td>1</td>\n",
       "      <td>2014-09-13 07:24:53</td>\n",
       "    </tr>\n",
       "    <tr>\n",
       "      <th>...</th>\n",
       "      <td>...</td>\n",
       "      <td>...</td>\n",
       "      <td>...</td>\n",
       "      <td>...</td>\n",
       "      <td>...</td>\n",
       "    </tr>\n",
       "    <tr>\n",
       "      <th>18102</th>\n",
       "      <td>19565</td>\n",
       "      <td>-10.923722</td>\n",
       "      <td>-37.106579</td>\n",
       "      <td>38092</td>\n",
       "      <td>2016-01-19 13:01:01</td>\n",
       "    </tr>\n",
       "    <tr>\n",
       "      <th>18103</th>\n",
       "      <td>19566</td>\n",
       "      <td>-10.923704</td>\n",
       "      <td>-37.106693</td>\n",
       "      <td>38092</td>\n",
       "      <td>2016-01-19 13:01:12</td>\n",
       "    </tr>\n",
       "    <tr>\n",
       "      <th>18104</th>\n",
       "      <td>19567</td>\n",
       "      <td>-10.923715</td>\n",
       "      <td>-37.106688</td>\n",
       "      <td>38092</td>\n",
       "      <td>2016-01-19 13:01:24</td>\n",
       "    </tr>\n",
       "    <tr>\n",
       "      <th>18105</th>\n",
       "      <td>19568</td>\n",
       "      <td>-10.923715</td>\n",
       "      <td>-37.106688</td>\n",
       "      <td>38092</td>\n",
       "      <td>2016-01-19 13:01:36</td>\n",
       "    </tr>\n",
       "    <tr>\n",
       "      <th>18106</th>\n",
       "      <td>19569</td>\n",
       "      <td>-10.923716</td>\n",
       "      <td>-37.106688</td>\n",
       "      <td>38092</td>\n",
       "      <td>2016-01-19 13:01:47</td>\n",
       "    </tr>\n",
       "  </tbody>\n",
       "</table>\n",
       "<p>18107 rows × 5 columns</p>\n",
       "</div>"
      ],
      "text/plain": [
       "          id   latitude  longitude  track_id                 time\n",
       "0          1 -10.939341 -37.062742         1  2014-09-13 07:24:32\n",
       "1          2 -10.939341 -37.062742         1  2014-09-13 07:24:37\n",
       "2          3 -10.939324 -37.062765         1  2014-09-13 07:24:42\n",
       "3          4 -10.939211 -37.062843         1  2014-09-13 07:24:47\n",
       "4          5 -10.938939 -37.062879         1  2014-09-13 07:24:53\n",
       "...      ...        ...        ...       ...                  ...\n",
       "18102  19565 -10.923722 -37.106579     38092  2016-01-19 13:01:01\n",
       "18103  19566 -10.923704 -37.106693     38092  2016-01-19 13:01:12\n",
       "18104  19567 -10.923715 -37.106688     38092  2016-01-19 13:01:24\n",
       "18105  19568 -10.923715 -37.106688     38092  2016-01-19 13:01:36\n",
       "18106  19569 -10.923716 -37.106688     38092  2016-01-19 13:01:47\n",
       "\n",
       "[18107 rows x 5 columns]"
      ]
     },
     "execution_count": 156,
     "metadata": {},
     "output_type": "execute_result"
    }
   ],
   "source": [
    "data_trackpoints"
   ]
  },
  {
   "cell_type": "markdown",
   "id": "354e3499-cde1-4371-bc5a-3ddbccba7496",
   "metadata": {},
   "source": [
    "### Estadísticas descriptivas de:\n",
    "* Determinar si hay trayectos \"duplicados\" (error en el software que envía dos veces el mismo trayecto) que sea conveniente eliminar.\n",
    "* Utilizar filtros para saber la cantidad exacta de carros y de autobuses que existen. [x]\n",
    "* Utilizar una función aritmética para obtener la rapidez promedio de todos los carros. [x]\n",
    "* Utilizar una función aritmética para obtener la rapidez promedio de todos los autobuses. [x]\n",
    "* Definir qué porcentaje de carros tiene una rapidez promedio inferior a la del promedio general. Generar una gráfica que represente esta información de manera clara. [x]\n",
    "* Definir qué porcentaje de autobuses tiene una rapidez promedio inferior a la del promedio. Generar una gráfica que represente esta información de manera clara [x]\n",
    "* Generar una gráfica que compare la rapidez promedio de los carros contra la de los autobuses. [x]\n",
    "* Utilizar operaciones aritméticas para obtener la rapidez promedio de cada auto y autobús y revisar que coincida con la columna “speed”. [x]\n",
    "* Definir qué porcentaje de carros enfrentan (a ojos del usuario) un alto nivel de tráfico Generar una gráfica que represente esta información de manera clara  [x]\n",
    "* Definir qué porcentaje de autobuses enfrentan (a ojos del usuario) un alto nivel de tráfico. Generar una gráfica que represente esta información de manera clara [x]\n",
    "* Utilizar el condicional SI/IF para obtener el número de carros que enfrentan un alto nivel de tráfico durante un día lluvioso. [x]\n",
    "* Usar alguna función para definir qué línea de autobús es la más llena. [x]\n",
    "* Usar alguna función para definir qué línea de autobús es la más vacía. [x]\n",
    "* Calcular con operaciones aritméticas el desplazamiento total desde el punto inicial (latitud inicial, longitud inicial) hasta el punto final (latitud final, longitud final) de algunos carros. [x]"
   ]
  },
  {
   "cell_type": "markdown",
   "id": "d7dbdf2d-7e4a-4fd3-8db2-c77b6978ec53",
   "metadata": {},
   "source": [
    "### Cantidad de autos y autobuses"
   ]
  },
  {
   "cell_type": "code",
   "execution_count": 157,
   "id": "01b65e71-58c3-45a1-96c6-165f19007408",
   "metadata": {},
   "outputs": [
    {
     "data": {
      "image/png": "[encoded data removed]",
      "text/plain": [
       "<Figure size 432x288 with 1 Axes>"
      ]
     },
     "metadata": {},
     "output_type": "display_data"
    }
   ],
   "source": [
    "def checkTypeOfCar(automobiles):\n",
    "    total_cars = 0\n",
    "    total_buses = 0\n",
    "    for automobile in automobiles:\n",
    "        if automobile == 1:\n",
    "            total_cars += 1\n",
    "        elif automobile == 2:\n",
    "            total_buses += 1\n",
    "        else:\n",
    "            pass\n",
    "    return [total_cars,total_buses]\n",
    "\n",
    "typeOfAutomobiles = checkTypeOfCar(data_tracks[\"car_or_bus\"])\n",
    "plt.bar([\"Cars\", \"Buses\"], typeOfAutomobiles, color=[\"#D84B20\", \"#025669\"])\n",
    "plt.title(\"Cantidad de autor y autobuses\",fontsize=15)\n",
    "plt.show()"
   ]
  },
  {
   "cell_type": "markdown",
   "id": "2423ea0a-ab25-45ac-bd6e-40559f00f3c7",
   "metadata": {},
   "source": [
    "### Velocidad promedio de todos los automóviles"
   ]
  },
  {
   "cell_type": "code",
   "execution_count": 158,
   "id": "684fdcf7-6eee-4c63-a8f3-5bb4415f9eac",
   "metadata": {},
   "outputs": [
    {
     "name": "stdout",
     "output_type": "stream",
     "text": [
      "16.7 km/h\n"
     ]
    }
   ],
   "source": [
    "average_speed = round(data_tracks[\"speed\"].mean(),2)\n",
    "print(average_speed, \"km/h\")"
   ]
  },
  {
   "cell_type": "markdown",
   "id": "29287463-b01a-49f7-80cb-55cae844ff13",
   "metadata": {},
   "source": [
    "#### Carros"
   ]
  },
  {
   "cell_type": "code",
   "execution_count": 159,
   "id": "5b9cc6f8-6a38-4e06-bf06-bee8dee250d1",
   "metadata": {},
   "outputs": [],
   "source": [
    "def averageSpeed(vehicles, speeds):\n",
    "    cars = {}\n",
    "    buses = {}\n",
    "    counter_cars = 1\n",
    "    counter_buses = 1\n",
    "    totalSpeed_cars = 0\n",
    "    totalSpeed_buses = 0\n",
    "    for index,typeOfVehicle in enumerate(vehicles):\n",
    "        speed = speeds[index]\n",
    "        if typeOfVehicle == 1:\n",
    "            cars[\"car_\" + str(counter_cars)] = round(speed,3)\n",
    "            counter_cars += 1\n",
    "            totalSpeed_cars += speed\n",
    "        elif typeOfVehicle == 2:\n",
    "            buses[\"bus_\" + str(counter_buses)] = round(speed,3)\n",
    "            counter_buses += 1\n",
    "            totalSpeed_buses += speed\n",
    "        else:\n",
    "            pass\n",
    "    \n",
    "    average_speed_cars = round(totalSpeed_cars / len(list(cars.values())),2)\n",
    "    average_speed_buses = round(totalSpeed_buses / len(list(buses.values())),2)\n",
    "    return [{\n",
    "        \"AverageSpeed_cars\": average_speed_cars,\n",
    "        \"AverageSpeed_buses\": average_speed_buses\n",
    "    }, [cars,buses]]\n",
    "    \n",
    "        \n",
    "\n",
    "speedsByType = averageSpeed(data_tracks[\"car_or_bus\"], data_tracks[\"speed\"])  "
   ]
  },
  {
   "cell_type": "code",
   "execution_count": 160,
   "id": "89964e35-fbf5-421a-94a2-b21e1b8254f8",
   "metadata": {},
   "outputs": [
    {
     "data": {
      "text/html": [
       "<div>\n",
       "<style scoped>\n",
       "    .dataframe tbody tr th:only-of-type {\n",
       "        vertical-align: middle;\n",
       "    }\n",
       "\n",
       "    .dataframe tbody tr th {\n",
       "        vertical-align: top;\n",
       "    }\n",
       "\n",
       "    .dataframe thead tr th {\n",
       "        text-align: left;\n",
       "    }\n",
       "</style>\n",
       "<table border=\"1\" class=\"dataframe\">\n",
       "  <thead>\n",
       "    <tr>\n",
       "      <th></th>\n",
       "      <th>Transportation</th>\n",
       "      <th>Speed</th>\n",
       "    </tr>\n",
       "  </thead>\n",
       "  <tbody>\n",
       "    <tr>\n",
       "      <th>0</th>\n",
       "      <td>car_1</td>\n",
       "      <td>19.211</td>\n",
       "    </tr>\n",
       "    <tr>\n",
       "      <th>1</th>\n",
       "      <td>car_2</td>\n",
       "      <td>30.848</td>\n",
       "    </tr>\n",
       "    <tr>\n",
       "      <th>2</th>\n",
       "      <td>car_3</td>\n",
       "      <td>25.807</td>\n",
       "    </tr>\n",
       "    <tr>\n",
       "      <th>3</th>\n",
       "      <td>car_4</td>\n",
       "      <td>1.347</td>\n",
       "    </tr>\n",
       "    <tr>\n",
       "      <th>4</th>\n",
       "      <td>car_5</td>\n",
       "      <td>36.851</td>\n",
       "    </tr>\n",
       "    <tr>\n",
       "      <th>...</th>\n",
       "      <td>...</td>\n",
       "      <td>...</td>\n",
       "    </tr>\n",
       "    <tr>\n",
       "      <th>82</th>\n",
       "      <td>car_83</td>\n",
       "      <td>21.812</td>\n",
       "    </tr>\n",
       "    <tr>\n",
       "      <th>83</th>\n",
       "      <td>car_84</td>\n",
       "      <td>23.829</td>\n",
       "    </tr>\n",
       "    <tr>\n",
       "      <th>84</th>\n",
       "      <td>car_85</td>\n",
       "      <td>28.337</td>\n",
       "    </tr>\n",
       "    <tr>\n",
       "      <th>85</th>\n",
       "      <td>car_86</td>\n",
       "      <td>30.052</td>\n",
       "    </tr>\n",
       "    <tr>\n",
       "      <th>86</th>\n",
       "      <td>car_87</td>\n",
       "      <td>30.174</td>\n",
       "    </tr>\n",
       "  </tbody>\n",
       "</table>\n",
       "<p>87 rows × 2 columns</p>\n",
       "</div>"
      ],
      "text/plain": [
       "   Transportation   Speed\n",
       "0           car_1  19.211\n",
       "1           car_2  30.848\n",
       "2           car_3  25.807\n",
       "3           car_4   1.347\n",
       "4           car_5  36.851\n",
       "..            ...     ...\n",
       "82         car_83  21.812\n",
       "83         car_84  23.829\n",
       "84         car_85  28.337\n",
       "85         car_86  30.052\n",
       "86         car_87  30.174\n",
       "\n",
       "[87 rows x 2 columns]"
      ]
     },
     "execution_count": 160,
     "metadata": {},
     "output_type": "execute_result"
    }
   ],
   "source": [
    "cars = pd.DataFrame(columns=[[\"Transportation\", \"Speed\"]])\n",
    "cars.set_index(\"Transportation\")\n",
    "cars[\"Transportation\"] = list(speedsByType[1][0].keys())\n",
    "cars[\"Speed\"] = list(speedsByType[1][0].values())\n",
    "cars"
   ]
  },
  {
   "cell_type": "code",
   "execution_count": 161,
   "id": "92eb7163-b1aa-4985-a762-6a2596fe0889",
   "metadata": {},
   "outputs": [],
   "source": [
    "buses = pd.DataFrame(columns=[[\"Transportation\", \"Speed\"]], )\n",
    "buses.set_index(\"Transportation\")\n",
    "buses[\"Transportation\"] = list(speedsByType[1][1].keys())\n",
    "buses[\"Speed\"] = list(speedsByType[1][1].values())"
   ]
  },
  {
   "cell_type": "markdown",
   "id": "826f279a-8aed-4eeb-a59f-a271cce54ba4",
   "metadata": {},
   "source": [
    "### Car speeds"
   ]
  },
  {
   "cell_type": "code",
   "execution_count": 162,
   "id": "c6181bbd-94e4-48fc-acc4-2eeeec4f14fa",
   "metadata": {},
   "outputs": [
    {
     "name": "stdout",
     "output_type": "stream",
     "text": [
      "Porcentage of cars that went below the speed average: 52.63%\n"
     ]
    }
   ],
   "source": [
    "def belowAverageSpeedCars(speeds,speedMean):\n",
    "    lower_speed_counter = 0\n",
    "    for speed in speeds:\n",
    "        if speed < speedMean:\n",
    "            lower_speed_counter += 1\n",
    "        else:\n",
    "            pass\n",
    "    return lower_speed_counter\n",
    "\n",
    "belowAverage_speed_cars = belowAverageSpeedCars(list(speedsByType[1][0].values()),speedsByType[0][\"AverageSpeed_cars\"]) / len(list(speedsByType[1][1].values()))\n",
    "print(\"Porcentage of cars that went below the speed average: \" + str(round(belowAverage_speed_cars * 100,2)) + \"%\")"
   ]
  },
  {
   "cell_type": "code",
   "execution_count": 163,
   "id": "68cc7c6a-51a6-4d01-a01e-06d7cc836df4",
   "metadata": {},
   "outputs": [
    {
     "data": {
      "image/png": "[encoded data removed]",
      "text/plain": [
       "<Figure size 432x288 with 1 Axes>"
      ]
     },
     "metadata": {},
     "output_type": "display_data"
    }
   ],
   "source": [
    "plt.scatter(list(speedsByType[1][0].keys()),list(speedsByType[1][0].values())).axes.get_xaxis().set_visible(False)\n",
    "plt.plot(list(speedsByType[1][0].keys()),[speedsByType[0][\"AverageSpeed_cars\"]] * len(list(speedsByType[1][0].keys())),\"--\" ,color=\"#A2231D\")\n",
    "plt.title(\"Velocidad promedio de cada carro\",fontsize=15)\n",
    "plt.show()"
   ]
  },
  {
   "cell_type": "markdown",
   "id": "e00a5b79-50d9-4b47-9775-76bda67a26a6",
   "metadata": {},
   "source": [
    "### Bus Speeds"
   ]
  },
  {
   "cell_type": "code",
   "execution_count": 164,
   "id": "04f299b0-2289-4943-a707-6c274cf3c1f8",
   "metadata": {},
   "outputs": [
    {
     "name": "stdout",
     "output_type": "stream",
     "text": [
      "Porcentage of buses that went below the speed average: 55.26%\n"
     ]
    }
   ],
   "source": [
    "def belowAverageSpeedBuses(speeds,speedMean):\n",
    "    lower_speed_counter = 0\n",
    "    for speed in speeds:\n",
    "        if speed < speedMean:\n",
    "            lower_speed_counter += 1\n",
    "        else:\n",
    "            pass\n",
    "    return lower_speed_counter\n",
    "\n",
    "belowAverage_speed_buses = belowAverageSpeedBuses(list(speedsByType[1][1].values()),speedsByType[0][\"AverageSpeed_buses\"]) / len(list(speedsByType[1][1].values()))\n",
    "print(\"Porcentage of buses that went below the speed average: \" + str(round(belowAverage_speed_buses * 100,2)) + \"%\")"
   ]
  },
  {
   "cell_type": "code",
   "execution_count": 165,
   "id": "57984f0a-52fa-4189-8d07-e6899817dca8",
   "metadata": {},
   "outputs": [
    {
     "data": {
      "image/png": "[encoded data removed]",
      "text/plain": [
       "<Figure size 432x288 with 1 Axes>"
      ]
     },
     "metadata": {},
     "output_type": "display_data"
    }
   ],
   "source": [
    "plt.scatter(list(speedsByType[1][1].keys()),list(speedsByType[1][1].values())).axes.get_xaxis().set_visible(False)\n",
    "plt.plot(list(speedsByType[1][1].keys()),[speedsByType[0][\"AverageSpeed_buses\"]] * len(list(speedsByType[1][1].keys())),\"--\" ,color=\"#A2231D\")\n",
    "plt.title(\"Velocidad promedio de cada autobús\",fontsize=15)\n",
    "plt.ylabel(\"Velocidad en km/h\")\n",
    "plt.show()"
   ]
  },
  {
   "cell_type": "markdown",
   "id": "b71a367e-8c82-4477-99bb-3d0c74bba652",
   "metadata": {},
   "source": [
    "### Comparación de velocidad promedio entre autobuses y carros"
   ]
  },
  {
   "cell_type": "code",
   "execution_count": 166,
   "id": "fc80beda-8d3c-4fec-9faf-d79170152fad",
   "metadata": {},
   "outputs": [
    {
     "data": {
      "image/png": "[encoded data removed]",
      "text/plain": [
       "<Figure size 432x288 with 1 Axes>"
      ]
     },
     "metadata": {},
     "output_type": "display_data"
    }
   ],
   "source": [
    "plt.bar([\"Carros\", \"Autobuses\"], [speedsByType[0][\"AverageSpeed_cars\"],speedsByType[0][\"AverageSpeed_buses\"]],color=[\"#955F20\",\"#F3A505\"])\n",
    "plt.ylabel(\"Velocidad en km/h\")\n",
    "plt.title(\"Comparación de velocidad promedio entre autobuses y carros\",fontsize=15)\n",
    "plt.show()"
   ]
  },
  {
   "cell_type": "markdown",
   "id": "36854822-f6bc-4496-b8ec-dbc2133531ec",
   "metadata": {},
   "source": [
    "### Checar velocidades dadas"
   ]
  },
  {
   "cell_type": "code",
   "execution_count": 167,
   "id": "b6caee09-b481-4f7a-bbe8-edc67d37f07e",
   "metadata": {},
   "outputs": [],
   "source": [
    "checkingSpeeds = pd.DataFrame(data_tracks[\"distance\"])\n",
    "checkingSpeeds[\"time\"] = data_tracks[\"time\"]\n",
    "checkingSpeeds[\"given_speed\"] = data_tracks[\"speed\"]\n",
    "def checkingGivenSpeed(distances,times,given_speeds):\n",
    "    checkingSpeeds = []\n",
    "    for index, distance in enumerate(distances):\n",
    "        time = times[index]\n",
    "        given_speed = given_speeds[index]\n",
    "        if round((distance / time),3) ==  round(given_speed,3):\n",
    "            checkingSpeeds.append(\"Valid\")\n",
    "        else:\n",
    "            checkingSpeeds.append(\"Invalid\")\n",
    "    return checkingSpeeds\n",
    "\n",
    "checkingSpeeds[\"speed_validation\"] = checkingGivenSpeed(list(checkingSpeeds[\"distance\"]), list(checkingSpeeds[\"time\"]), list(checkingSpeeds[\"given_speed\"]))"
   ]
  },
  {
   "cell_type": "code",
   "execution_count": 168,
   "id": "ffa94b73-49be-4476-8328-76a868c3f7e4",
   "metadata": {},
   "outputs": [],
   "source": [
    "checkingSpeeds.to_csv(\"./Visualizaciones/speed_validation.csv\")"
   ]
  },
  {
   "cell_type": "code",
   "execution_count": 169,
   "id": "795cdb23-1e38-4068-b535-92be258dc042",
   "metadata": {},
   "outputs": [],
   "source": [
    "cars = pd.read_csv(\"./Visualizaciones/cars_speed.csv\")\n",
    "buses = pd.read_csv(\"./Visualizaciones/buses_speed.csv\")"
   ]
  },
  {
   "cell_type": "markdown",
   "id": "56eb3892-02d9-4adb-a2a5-099aea35a701",
   "metadata": {},
   "source": [
    "### Evaluación de tráfico del 1-3"
   ]
  },
  {
   "cell_type": "code",
   "execution_count": 170,
   "id": "e5cf8b8b-0bf2-4629-9341-df3cba5b4381",
   "metadata": {},
   "outputs": [],
   "source": [
    "def defineTrafficRating(ratings):\n",
    "    low = 0\n",
    "    medium = 0\n",
    "    high = 0\n",
    "    for rating in ratings:\n",
    "        if rating == 1:\n",
    "            low += 1\n",
    "        elif rating == 2:\n",
    "            medium += 1\n",
    "        elif rating == 3:\n",
    "            high += 1\n",
    "    x = [\"Low\", \"Medium\", \"High\"]\n",
    "    y = [low, medium,high]\n",
    "    return [x,y]\n",
    "cars_rating = defineTrafficRating(cars[\"Rating\"])\n",
    "buses_rating = defineTrafficRating(buses[\"rating\"])"
   ]
  },
  {
   "cell_type": "markdown",
   "id": "732afaa5-38f9-45a8-bc68-b958bed10c2d",
   "metadata": {},
   "source": [
    "#### Carros"
   ]
  },
  {
   "cell_type": "code",
   "execution_count": 171,
   "id": "18daae1a-3c4a-4ce1-9f51-e03ace774d8d",
   "metadata": {},
   "outputs": [
    {
     "data": {
      "image/png": "[encoded data removed]",
      "text/plain": [
       "<Figure size 432x288 with 1 Axes>"
      ]
     },
     "metadata": {},
     "output_type": "display_data"
    }
   ],
   "source": [
    "plt.bar(cars_rating[0], cars_rating[1], color=[\"green\", \"yellow\", \"red\"])\n",
    "plt.title(\"Nivel de tráfico en carros\", fontsize=15)\n",
    "plt.show()"
   ]
  },
  {
   "cell_type": "markdown",
   "id": "82d28085-e600-419d-ba03-a534c36767e7",
   "metadata": {},
   "source": [
    "#### Autobuses"
   ]
  },
  {
   "cell_type": "code",
   "execution_count": 172,
   "id": "9eec131e-afbd-47da-91ba-0893f3659a25",
   "metadata": {},
   "outputs": [
    {
     "data": {
      "image/png": "[encoded data removed]",
      "text/plain": [
       "<Figure size 432x288 with 1 Axes>"
      ]
     },
     "metadata": {},
     "output_type": "display_data"
    }
   ],
   "source": [
    "plt.bar(buses_rating[0], buses_rating[1],color=[\"green\", \"yellow\", \"red\"])\n",
    "plt.title(\"Nivel de tráfico en autobuses\", fontsize=15)\n",
    "plt.show()"
   ]
  },
  {
   "cell_type": "markdown",
   "id": "fcacd484-f726-4952-8344-0c014a15841a",
   "metadata": {},
   "source": [
    "### Obteniendo numero de carros que experimentan mucho trafico y un dia lluvioso"
   ]
  },
  {
   "cell_type": "code",
   "execution_count": 173,
   "id": "d8b7bd39-97ca-45c4-b1ef-7b74a998138a",
   "metadata": {},
   "outputs": [
    {
     "data": {
      "text/plain": [
       "[0, 87]"
      ]
     },
     "execution_count": 173,
     "metadata": {},
     "output_type": "execute_result"
    }
   ],
   "source": [
    "def HighTrafficRainyDay(ratings,weatherRatings):\n",
    "    # 1 = rainy day\n",
    "    # 2 = sunny day\n",
    "    people_badLuck = 0\n",
    "    other = 0\n",
    "    for index,rating in enumerate(ratings):\n",
    "        weather = weatherRatings[index]\n",
    "        if (rating == 3) and (weather == 1):\n",
    "            people_badLuck += 1\n",
    "        else:\n",
    "            other += 1\n",
    "    return [people_badLuck, other]\n",
    "\n",
    "peopleWithBadLuck_cars = HighTrafficRainyDay(cars[\"Rating\"], cars[\"rating_weather\"])\n",
    "peopleWithBadLuck_buses = HighTrafficRainyDay(buses[\"rating\"], buses[\"rating_weather\"])\n",
    "peopleWithBadLuck_cars"
   ]
  },
  {
   "cell_type": "markdown",
   "id": "1617ad50-46d2-4a5e-ae73-acf3f5a3ed41",
   "metadata": {},
   "source": [
    "#### Number of people with bad luck (high traffic with a rainy day)"
   ]
  },
  {
   "cell_type": "code",
   "execution_count": 174,
   "id": "e0d2495e-6682-4560-b842-932448254077",
   "metadata": {},
   "outputs": [
    {
     "data": {
      "image/png": "[encoded data removed]",
      "text/plain": [
       "<Figure size 432x288 with 1 Axes>"
      ]
     },
     "metadata": {},
     "output_type": "display_data"
    }
   ],
   "source": [
    "percentage_badLuckcars = (peopleWithBadLuck_cars[0] / (peopleWithBadLuck_cars[0] + peopleWithBadLuck_cars[1])) * 100\n",
    "plt.pie(peopleWithBadLuck_cars)\n",
    "plt.title(\"Carros que enfrentan día lluvioso y mucho tráfico\",fontsize=15)\n",
    "plt.figtext(0.5, 0.01,str(round(percentage_badLuckcars,2)) + \"% tuvieron estas dos condiciones\" , wrap=True, horizontalalignment='center', fontsize=12)\n",
    "plt.show()"
   ]
  },
  {
   "cell_type": "code",
   "execution_count": 175,
   "id": "69816af3-43be-4d0e-b2ba-206eb03c0b63",
   "metadata": {},
   "outputs": [
    {
     "data": {
      "image/png": "[encoded data removed]",
      "text/plain": [
       "<Figure size 432x288 with 1 Axes>"
      ]
     },
     "metadata": {},
     "output_type": "display_data"
    }
   ],
   "source": [
    "percentage_badLuckbuses = (peopleWithBadLuck_buses[0] / (peopleWithBadLuck_buses[0] + peopleWithBadLuck_buses[1])) * 100\n",
    "plt.pie(peopleWithBadLuck_buses)\n",
    "plt.title(\"Autobuses que enfrentan día lluvioso y mucho tráfico\",fontsize=15)\n",
    "plt.figtext(0.5, 0.01,str(round(percentage_badLuckbuses,2)) + \"% tuvieron estas dos condiciones\" , wrap=True, horizontalalignment='center', fontsize=12)\n",
    "plt.show()"
   ]
  },
  {
   "cell_type": "code",
   "execution_count": null,
   "id": "265a569e-1629-4220-8736-401a24740a35",
   "metadata": {},
   "outputs": [],
   "source": []
  },
  {
   "cell_type": "code",
   "execution_count": 176,
   "id": "54dad1c2-e854-4c3f-86b9-93906848e235",
   "metadata": {},
   "outputs": [
    {
     "data": {
      "text/plain": [
       "{'3': [-10.90887499, -37.05050216],\n",
       " '4': [-10.92420939, -37.10468552],\n",
       " '12': [-10.90885085, -37.0512062],\n",
       " '13': [-10.92376114, -37.10506548],\n",
       " '14': [-10.89686935, -37.05346637],\n",
       " '18': [-10.90299921, -37.05002435],\n",
       " '19': [-10.92139071, -37.1000928],\n",
       " '24': [-10.92462, -37.1046883333333],\n",
       " '25': [-10.9881016666667, -37.052535],\n",
       " '26': [-10.9257183333333, -37.103215],\n",
       " '27': [-10.9257183333333, -37.103215],\n",
       " '33': [-10.9222754, -37.09767894],\n",
       " '49': [-10.9222296, -37.097166],\n",
       " '50': [-10.9222296, -37.097166],\n",
       " '51': [-10.99229328, -37.53211574],\n",
       " '58': [-10.9222686, -37.0990955],\n",
       " '61': [-10.89681949, -37.05352899],\n",
       " '63': [-10.89684121, -37.05353753],\n",
       " '65': [-10.89680199, -37.05348913],\n",
       " '67': [-10.89679782, -37.05358669],\n",
       " '70': [-10.8968087, -37.05351538],\n",
       " '71': [-10.89681431, -37.05351961],\n",
       " '78': [-10.89680933, -37.05350889],\n",
       " '99': [-10.89679119, -37.05361728],\n",
       " '128': [-10.89684307, -37.0535966],\n",
       " '155': [-10.89686831, -37.05352479],\n",
       " '157': [-10.9756044, -37.04720568],\n",
       " '158': [-10.97563361, -37.04721022],\n",
       " '159': [-10.89679312, -37.05346304],\n",
       " '171': [-10.89674752, -37.05351285],\n",
       " '177': [-10.89700815, -37.05362323],\n",
       " '179': [-10.89685796, -37.05352825],\n",
       " '205': [-10.89676197, -37.05341817],\n",
       " '210': [-10.97894744, -37.04721916],\n",
       " '248': [-10.92374321, -37.04460367],\n",
       " '32446': [-10.97887015, -37.04730602],\n",
       " '32447': [-10.97887015, -37.04730602],\n",
       " '37945': [-10.97610406, -37.04732082],\n",
       " '37949': [-10.89687928, -37.05345921],\n",
       " '37951': [-10.97568943, -37.04667723],\n",
       " '37950': [-10.97568943, -37.04667723],\n",
       " '37953': [-10.92661819, -37.10230957],\n",
       " '37954': [-10.92661819, -37.10230957],\n",
       " '37955': [-10.98770867, -37.05223842],\n",
       " '37960': [-10.92389109, -37.10147223],\n",
       " '37961': [-10.988325, -37.05250007],\n",
       " '37964': [-10.92425796, -37.04387439],\n",
       " '37965': [-10.92110707, -37.10121373],\n",
       " '37967': [-10.89686287, -37.05354426],\n",
       " '37969': [-10.91163047, -37.04790033],\n",
       " '37971': [-10.89692061, -37.05335712],\n",
       " '37972': [-10.89692061, -37.05335712],\n",
       " '37979': [-10.89685301, -37.05354094],\n",
       " '37982': [-10.89685635, -37.05353426],\n",
       " '37983': [-10.89688835, -37.05353131],\n",
       " '37989': [-10.9691047, -37.05888446],\n",
       " '37990': [-10.89690549, -37.05355059],\n",
       " '37993': [-10.89692011, -37.05361252],\n",
       " '37995': [-10.92284144, -37.04739522],\n",
       " '38000': [-10.92137856, -37.10016071],\n",
       " '38001': [-10.98796702, -37.05710324],\n",
       " '38015': [-10.97839395, -37.04742906],\n",
       " '38016': [-10.91851486, -37.05286923],\n",
       " '38018': [-10.29286657, -36.60631461],\n",
       " '38022': [-10.91146031, -37.04786595],\n",
       " '38024': [-10.97579875, -37.04703012],\n",
       " '38030': [-10.89677797, -37.05347733],\n",
       " '38031': [-10.92274462, -37.04736178],\n",
       " '38039': [-10.3795657, -36.85024685],\n",
       " '38044': [-10.89935472, -37.09625154],\n",
       " '38045': [-10.90271568, -37.05013511],\n",
       " '38064': [-10.8344984834137, -37.0672455607841],\n",
       " '38069': [-10.96630119, -37.08280698],\n",
       " '38084': [-10.9333981562022, -37.0788730972165],\n",
       " '38090': [-10.8694503931813, -37.0952764284214],\n",
       " '38092': [-10.92371551, -37.10668792]}"
      ]
     },
     "execution_count": 176,
     "metadata": {},
     "output_type": "execute_result"
    }
   ],
   "source": [
    "def identifyVehicleLastCoordinates(tracks_id,trackpoints_id,latitudes,longitudes):\n",
    "    cars_coordinates = {}\n",
    "    for index,trackpoint in enumerate(trackpoints_id):\n",
    "        longitude = longitudes[index]\n",
    "        latitude = latitudes[index]\n",
    "        if trackpoint in tracks_id:\n",
    "            cars_coordinates[str(trackpoint)] = [latitude,longitude]\n",
    "        else:\n",
    "            pass\n",
    "    return cars_coordinates\n",
    "\n",
    "lastCoordinates_cars = identifyVehicleLastCoordinates(list(cars[\"ID\"]), list(data_trackpoints[\"track_id\"]),list(data_trackpoints[\"latitude\"]),list(data_trackpoints[\"longitude\"])) \n",
    "lastCoordinates_buses = identifyVehicleLastCoordinates(list(buses[\"ID\"]), list(data_trackpoints[\"track_id\"]),list(data_trackpoints[\"latitude\"]),list(data_trackpoints[\"longitude\"]))\n",
    "lastCoordinates_buses"
   ]
  },
  {
   "cell_type": "code",
   "execution_count": 177,
   "id": "80ed1667-3e20-49a3-a58d-b779b50ac87b",
   "metadata": {},
   "outputs": [
    {
     "data": {
      "text/plain": [
       "{'3': [-10.9393413858164, -37.0627421097422],\n",
       " '4': [-10.90889296, -37.05237154],\n",
       " '12': [-10.90542032, -37.04819449],\n",
       " '13': [-10.90885896, -37.05223934],\n",
       " '14': [-10.89686935, -37.05346637],\n",
       " '18': [-10.89739402, -37.05800206],\n",
       " '19': [-10.91123058, -37.05267365],\n",
       " '24': [-10.9235383333333, -37.0809266666667],\n",
       " '25': [-10.9172966666667, -37.087255],\n",
       " '26': [-10.9876966666667, -37.0523616666667],\n",
       " '27': [-10.9876966666667, -37.0523616666667],\n",
       " '33': [-10.9088832, -37.05223326],\n",
       " '49': [-10.9295316, -37.0670892],\n",
       " '50': [-10.9295316, -37.0670892],\n",
       " '51': [-10.99013389, -37.53588639],\n",
       " '58': [-10.9287803, -37.0664648],\n",
       " '61': [-10.8967926, -37.05351068],\n",
       " '63': [-10.89687711, -37.05360013],\n",
       " '65': [-10.89681579, -37.05354392],\n",
       " '67': [-10.89680977, -37.05350849],\n",
       " '70': [-10.89680486, -37.05357979],\n",
       " '71': [-10.89681431, -37.05351961],\n",
       " '78': [-10.89682828, -37.05352295],\n",
       " '99': [-10.89685371, -37.05353246],\n",
       " '128': [-10.89685835, -37.05355699],\n",
       " '155': [-10.89686874, -37.05354375],\n",
       " '157': [-10.97555976, -37.047246],\n",
       " '158': [-10.97565045, -37.04719361],\n",
       " '159': [-10.89679312, -37.05346304],\n",
       " '171': [-10.89674752, -37.05351285],\n",
       " '177': [-10.89687356, -37.0535886],\n",
       " '179': [-10.89685746, -37.0535254],\n",
       " '205': [-10.89683004, -37.05339294],\n",
       " '210': [-10.93175304, -37.04802048],\n",
       " '248': [-10.97929989, -37.04452884],\n",
       " '32446': [-10.93048868, -37.04647413],\n",
       " '32447': [-10.93048868, -37.04647413],\n",
       " '37945': [-10.92352191, -37.04463536],\n",
       " '37949': [-10.89694361, -37.05344598],\n",
       " '37951': [-10.95870477, -37.04433478],\n",
       " '37950': [-10.95870477, -37.04433478],\n",
       " '37953': [-10.91846879, -37.05232455],\n",
       " '37954': [-10.91846879, -37.05232455],\n",
       " '37955': [-10.92275609, -37.08161865],\n",
       " '37960': [-10.91132123, -37.05274726],\n",
       " '37961': [-10.9231302, -37.08132807],\n",
       " '37964': [-10.97354334, -37.04268089],\n",
       " '37965': [-10.91865737, -37.05568165],\n",
       " '37967': [-10.89684726, -37.0535463],\n",
       " '37969': [-10.91878273, -37.07014091],\n",
       " '37971': [-10.89686356, -37.05353223],\n",
       " '37972': [-10.89686356, -37.05353223],\n",
       " '37979': [-10.8969181, -37.05351215],\n",
       " '37982': [-10.89685635, -37.05353426],\n",
       " '37983': [-10.89683459, -37.05351843],\n",
       " '37989': [-10.92849684, -37.04396363],\n",
       " '37990': [-10.89690549, -37.05355059],\n",
       " '37993': [-10.89692011, -37.05361252],\n",
       " '37995': [-10.92278446, -37.04750481],\n",
       " '38000': [-10.90891762, -37.05220667],\n",
       " '38001': [-10.92452472, -37.04448527],\n",
       " '38015': [-10.94453329, -37.04683695],\n",
       " '38016': [-10.9219381, -37.09919864],\n",
       " '38018': [-10.29284478, -36.6063111],\n",
       " '38022': [-10.92144846, -37.10247946],\n",
       " '38024': [-10.95242852, -37.0458232],\n",
       " '38030': [-10.89677797, -37.05347733],\n",
       " '38031': [-10.92274729, -37.04730431],\n",
       " '38039': [-10.3795756, -36.8503077],\n",
       " '38044': [-10.90318296, -37.04951326],\n",
       " '38045': [-10.90353488, -37.08079661],\n",
       " '38064': [-10.8348559847601, -37.0683304683091],\n",
       " '38069': [-10.96627226, -37.0827371],\n",
       " '38084': [-10.9335228242084, -37.078922706708],\n",
       " '38090': [-10.8694503931813, -37.0952764284214],\n",
       " '38092': [-10.92372234, -37.10657943]}"
      ]
     },
     "execution_count": 177,
     "metadata": {},
     "output_type": "execute_result"
    }
   ],
   "source": [
    "def identifyVehicleFirstCoordinates(tracks_id,trackpoints_id,latitudes,longitudes):\n",
    "    cars_coordinates = {}\n",
    "    cars_coordinates[str(tracks_id[0])] = [latitudes[0], longitudes[0]]\n",
    "    for index,trackpoint in enumerate(trackpoints_id):\n",
    "        longitude = longitudes[index]\n",
    "        latitude = latitudes[index]\n",
    "        if trackpoint in tracks_id:\n",
    "            if str(trackpoint) not in cars_coordinates.keys():\n",
    "                cars_coordinates[str(trackpoint)] = [latitude,longitude]\n",
    "        else:\n",
    "            pass\n",
    "    return cars_coordinates\n",
    "\n",
    "firstCoordinates_cars = identifyVehicleFirstCoordinates(list(cars[\"ID\"]), list(data_trackpoints[\"track_id\"]),list(data_trackpoints[\"latitude\"]),list(data_trackpoints[\"longitude\"]))\n",
    "firstCoordinates_buses = identifyVehicleFirstCoordinates(list(buses[\"ID\"]), list(data_trackpoints[\"track_id\"]),list(data_trackpoints[\"latitude\"]),list(data_trackpoints[\"longitude\"]))\n",
    "firstCoordinates_buses"
   ]
  },
  {
   "cell_type": "code",
   "execution_count": 178,
   "id": "6aecfaac-08a9-4168-8adf-be28861e9982",
   "metadata": {},
   "outputs": [],
   "source": [
    "def calculateDisplacement(firstCoordinates,secondCoordinates):\n",
    "    #first[x1,y1] and second[x2,y2]\n",
    "    car_displacements = []\n",
    "    for index, first in enumerate(firstCoordinates):\n",
    "        second = secondCoordinates[index]\n",
    "        x1 = first[0]\n",
    "        x2 = second[0]\n",
    "        y1 = first[1]\n",
    "        y2 = second[1]\n",
    "        d = np.sqrt(np.square(x2 - x1) + np.square(y2-y1))\n",
    "        car_displacements.append(d)\n",
    "    return car_displacements\n",
    "\n",
    "carsDisplacements = calculateDisplacement(list(firstCoordinates_cars.values()),list(lastCoordinates_cars.values()))\n",
    "busesDisplacements = calculateDisplacement(list(firstCoordinates_buses.values()),list(lastCoordinates_buses.values()))"
   ]
  },
  {
   "cell_type": "code",
   "execution_count": 179,
   "id": "202b54b1-4ec8-4f23-85e6-8c036a1c3a1b",
   "metadata": {},
   "outputs": [],
   "source": [
    "cars[\"Displacements\"] = carsDisplacements\n",
    "buses[\"Displacements\"] = busesDisplacements"
   ]
  },
  {
   "cell_type": "code",
   "execution_count": 180,
   "id": "acc05a05-4d13-457f-84ae-85f168ebe40f",
   "metadata": {},
   "outputs": [],
   "source": [
    "def checkBusLines(busLines):\n",
    "    f_busLines = {}\n",
    "    realDic = {}\n",
    "    for busLine in busLines:\n",
    "        if busLine not in f_busLines:\n",
    "            f_busLines[busLine] = 1\n",
    "        elif busLine in f_busLines:\n",
    "            f_busLines[busLine] += 1\n",
    "        else:\n",
    "            pass\n",
    "    for i in sorted(f_busLines):\n",
    "        realDic[i] = f_busLines[i]\n",
    "    return realDic \n",
    "\n",
    "busLinesFrequency = checkBusLines(list(buses[\"linha\"].dropna()))"
   ]
  },
  {
   "cell_type": "code",
   "execution_count": 181,
   "id": "819e2fa5-039d-4a19-b974-2670aa32ae2b",
   "metadata": {},
   "outputs": [
    {
     "data": {
      "image/png": "[encoded data removed]",
      "text/plain": [
       "<Figure size 432x288 with 1 Axes>"
      ]
     },
     "metadata": {},
     "output_type": "display_data"
    }
   ],
   "source": [
    "plt.barh(list(busLinesFrequency.keys()),list(busLinesFrequency.values()), color= [\"#00b4d8\",\"#48cae4\",\"#48cae4\",\"#48cae4\",\"#48cae4\",\"#023e8a\",\"#00b4d8\",\"#48cae4\",\"#023e8a\",\"#90e0ef\",\"#90e0ef\",\"#48cae4\",\"#48cae4\",\"#90e0ef\",\"#90e0ef\",\"#90e0ef\",\"#00b4d8\",\"#90e0ef\",])\n",
    "plt.title(\"Frecuencia de Líneas de autobuses\", fontsize=15)\n",
    "plt.xlabel(\"Total\")\n",
    "plt.show()"
   ]
  },
  {
   "cell_type": "code",
   "execution_count": null,
   "id": "aca3a183-7301-4053-a7a9-cc84096d8cd5",
   "metadata": {},
   "outputs": [],
   "source": []
  },
  {
   "cell_type": "markdown",
   "id": "074c79c5-29fd-4030-964a-e7d13e35b543",
   "metadata": {},
   "source": [
    "### Checar fecha de partida y llegada de autobuses"
   ]
  },
  {
   "cell_type": "code",
   "execution_count": 182,
   "id": "5e62d416-5883-42e0-a4da-7e0f2a030337",
   "metadata": {},
   "outputs": [],
   "source": [
    "def arrivalTimesBuses(trackpoints_id,buses_id, times):\n",
    "    arrivalTimes = {}\n",
    "    for index, trackpoint in enumerate(trackpoints_id):\n",
    "        time = times[index]\n",
    "        if trackpoint in buses_id:\n",
    "            arrivalTimes[\"bus_\" + str(trackpoint)] = time\n",
    "        else:\n",
    "            pass\n",
    "    return arrivalTimes\n",
    "\n",
    "\n",
    "def departureTimesBuses(trackpoints_id,buses_id, times):\n",
    "    departureTimes = {}\n",
    "    for index, trackpoint in enumerate(trackpoints_id):\n",
    "        time = times[index]\n",
    "        if trackpoint in buses_id:\n",
    "            if str(trackpoint) not in departureTimes.keys():\n",
    "                departureTimes[str(trackpoint)] = time\n",
    "            else:\n",
    "                pass\n",
    "        else:\n",
    "            pass\n",
    "    return departureTimes\n",
    "\n",
    "arrivalTimesBuses = arrivalTimesBuses(list(data_trackpoints[\"track_id\"]),list(buses[\"ID\"]), list(data_trackpoints[\"time\"])) \n",
    "departureTimesBuses = departureTimesBuses(list(data_trackpoints[\"track_id\"]),list(buses[\"ID\"]), list(data_trackpoints[\"time\"])) "
   ]
  },
  {
   "cell_type": "code",
   "execution_count": 183,
   "id": "bbbbc57c-2030-4a63-853d-cfcaa5e89008",
   "metadata": {},
   "outputs": [],
   "source": [
    "buses[\"Fecha de salida\"] = list(departureTimesBuses.values())\n",
    "buses[\"Fecha de llegada\"] = list(arrivalTimesBuses.values())"
   ]
  },
  {
   "cell_type": "code",
   "execution_count": 184,
   "id": "2aec422f-c8a4-4578-b2a3-694140c5926e",
   "metadata": {},
   "outputs": [
    {
     "data": {
      "text/html": [
       "<div>\n",
       "<style scoped>\n",
       "    .dataframe tbody tr th:only-of-type {\n",
       "        vertical-align: middle;\n",
       "    }\n",
       "\n",
       "    .dataframe tbody tr th {\n",
       "        vertical-align: top;\n",
       "    }\n",
       "\n",
       "    .dataframe thead th {\n",
       "        text-align: right;\n",
       "    }\n",
       "</style>\n",
       "<table border=\"1\" class=\"dataframe\">\n",
       "  <thead>\n",
       "    <tr style=\"text-align: right;\">\n",
       "      <th></th>\n",
       "      <th>ID</th>\n",
       "      <th>Transportation</th>\n",
       "      <th>Speed</th>\n",
       "      <th>rating</th>\n",
       "      <th>rating_bus</th>\n",
       "      <th>rating_weather</th>\n",
       "      <th>linha</th>\n",
       "      <th>Displacements</th>\n",
       "      <th>Fecha de salida</th>\n",
       "      <th>Fecha de llegada</th>\n",
       "    </tr>\n",
       "  </thead>\n",
       "  <tbody>\n",
       "    <tr>\n",
       "      <th>0</th>\n",
       "      <td>3</td>\n",
       "      <td>bus_1</td>\n",
       "      <td>13.560</td>\n",
       "      <td>3</td>\n",
       "      <td>0</td>\n",
       "      <td>0</td>\n",
       "      <td>NaN</td>\n",
       "      <td>0.032833</td>\n",
       "      <td>2014-09-17 05:09:23</td>\n",
       "      <td>2014-09-17 05:13:17</td>\n",
       "    </tr>\n",
       "    <tr>\n",
       "      <th>1</th>\n",
       "      <td>4</td>\n",
       "      <td>bus_2</td>\n",
       "      <td>19.767</td>\n",
       "      <td>3</td>\n",
       "      <td>0</td>\n",
       "      <td>0</td>\n",
       "      <td>NaN</td>\n",
       "      <td>0.054510</td>\n",
       "      <td>2014-09-17 05:09:23</td>\n",
       "      <td>2014-09-17 05:36:34</td>\n",
       "    </tr>\n",
       "    <tr>\n",
       "      <th>2</th>\n",
       "      <td>12</td>\n",
       "      <td>bus_3</td>\n",
       "      <td>17.405</td>\n",
       "      <td>3</td>\n",
       "      <td>0</td>\n",
       "      <td>0</td>\n",
       "      <td>NaN</td>\n",
       "      <td>0.004565</td>\n",
       "      <td>2014-09-30 10:07:32</td>\n",
       "      <td>2014-09-30 10:09:50</td>\n",
       "    </tr>\n",
       "    <tr>\n",
       "      <th>3</th>\n",
       "      <td>13</td>\n",
       "      <td>bus_4</td>\n",
       "      <td>15.395</td>\n",
       "      <td>3</td>\n",
       "      <td>0</td>\n",
       "      <td>0</td>\n",
       "      <td>NaN</td>\n",
       "      <td>0.054888</td>\n",
       "      <td>2014-09-30 10:16:20</td>\n",
       "      <td>2014-09-30 10:47:51</td>\n",
       "    </tr>\n",
       "    <tr>\n",
       "      <th>4</th>\n",
       "      <td>14</td>\n",
       "      <td>bus_5</td>\n",
       "      <td>8.903</td>\n",
       "      <td>2</td>\n",
       "      <td>0</td>\n",
       "      <td>0</td>\n",
       "      <td>NaN</td>\n",
       "      <td>0.000000</td>\n",
       "      <td>2014-10-08 10:20:38</td>\n",
       "      <td>2014-10-08 10:20:38</td>\n",
       "    </tr>\n",
       "    <tr>\n",
       "      <th>...</th>\n",
       "      <td>...</td>\n",
       "      <td>...</td>\n",
       "      <td>...</td>\n",
       "      <td>...</td>\n",
       "      <td>...</td>\n",
       "      <td>...</td>\n",
       "      <td>...</td>\n",
       "      <td>...</td>\n",
       "      <td>...</td>\n",
       "      <td>...</td>\n",
       "    </tr>\n",
       "    <tr>\n",
       "      <th>71</th>\n",
       "      <td>38064</td>\n",
       "      <td>bus_72</td>\n",
       "      <td>1.445</td>\n",
       "      <td>3</td>\n",
       "      <td>2</td>\n",
       "      <td>2</td>\n",
       "      <td>707 - CASTELO BRANCO CENTRO</td>\n",
       "      <td>0.001142</td>\n",
       "      <td>2015-10-23 19:00:59</td>\n",
       "      <td>2015-10-23 19:06:07</td>\n",
       "    </tr>\n",
       "    <tr>\n",
       "      <th>72</th>\n",
       "      <td>38069</td>\n",
       "      <td>bus_73</td>\n",
       "      <td>0.536</td>\n",
       "      <td>3</td>\n",
       "      <td>1</td>\n",
       "      <td>2</td>\n",
       "      <td>001 - A FRANCO BUGIO</td>\n",
       "      <td>0.000076</td>\n",
       "      <td>2015-11-03 13:22:22</td>\n",
       "      <td>2015-11-03 13:23:09</td>\n",
       "    </tr>\n",
       "    <tr>\n",
       "      <th>73</th>\n",
       "      <td>38084</td>\n",
       "      <td>bus_74</td>\n",
       "      <td>1.154</td>\n",
       "      <td>1</td>\n",
       "      <td>3</td>\n",
       "      <td>2</td>\n",
       "      <td>721 - CASTELO BRANCO SUISSA</td>\n",
       "      <td>0.000134</td>\n",
       "      <td>2015-12-16 21:43:16</td>\n",
       "      <td>2015-12-16 21:43:50</td>\n",
       "    </tr>\n",
       "    <tr>\n",
       "      <th>74</th>\n",
       "      <td>38090</td>\n",
       "      <td>bus_75</td>\n",
       "      <td>0.843</td>\n",
       "      <td>3</td>\n",
       "      <td>1</td>\n",
       "      <td>2</td>\n",
       "      <td>002 - FERNANDO COLLOR DIA</td>\n",
       "      <td>0.000000</td>\n",
       "      <td>2016-01-03 00:58:12</td>\n",
       "      <td>2016-01-03 00:58:23</td>\n",
       "    </tr>\n",
       "    <tr>\n",
       "      <th>75</th>\n",
       "      <td>38092</td>\n",
       "      <td>bus_76</td>\n",
       "      <td>1.373</td>\n",
       "      <td>3</td>\n",
       "      <td>1</td>\n",
       "      <td>2</td>\n",
       "      <td>060 - PADRE PEDRO CAMPUS</td>\n",
       "      <td>0.000109</td>\n",
       "      <td>2016-01-19 13:01:01</td>\n",
       "      <td>2016-01-19 13:01:47</td>\n",
       "    </tr>\n",
       "  </tbody>\n",
       "</table>\n",
       "<p>76 rows × 10 columns</p>\n",
       "</div>"
      ],
      "text/plain": [
       "       ID Transportation   Speed  rating  rating_bus  rating_weather  \\\n",
       "0       3          bus_1  13.560       3           0               0   \n",
       "1       4          bus_2  19.767       3           0               0   \n",
       "2      12          bus_3  17.405       3           0               0   \n",
       "3      13          bus_4  15.395       3           0               0   \n",
       "4      14          bus_5   8.903       2           0               0   \n",
       "..    ...            ...     ...     ...         ...             ...   \n",
       "71  38064         bus_72   1.445       3           2               2   \n",
       "72  38069         bus_73   0.536       3           1               2   \n",
       "73  38084         bus_74   1.154       1           3               2   \n",
       "74  38090         bus_75   0.843       3           1               2   \n",
       "75  38092         bus_76   1.373       3           1               2   \n",
       "\n",
       "                          linha  Displacements      Fecha de salida  \\\n",
       "0                           NaN       0.032833  2014-09-17 05:09:23   \n",
       "1                           NaN       0.054510  2014-09-17 05:09:23   \n",
       "2                           NaN       0.004565  2014-09-30 10:07:32   \n",
       "3                           NaN       0.054888  2014-09-30 10:16:20   \n",
       "4                           NaN       0.000000  2014-10-08 10:20:38   \n",
       "..                          ...            ...                  ...   \n",
       "71  707 - CASTELO BRANCO CENTRO       0.001142  2015-10-23 19:00:59   \n",
       "72         001 - A FRANCO BUGIO       0.000076  2015-11-03 13:22:22   \n",
       "73  721 - CASTELO BRANCO SUISSA       0.000134  2015-12-16 21:43:16   \n",
       "74    002 - FERNANDO COLLOR DIA       0.000000  2016-01-03 00:58:12   \n",
       "75     060 - PADRE PEDRO CAMPUS       0.000109  2016-01-19 13:01:01   \n",
       "\n",
       "       Fecha de llegada  \n",
       "0   2014-09-17 05:13:17  \n",
       "1   2014-09-17 05:36:34  \n",
       "2   2014-09-30 10:09:50  \n",
       "3   2014-09-30 10:47:51  \n",
       "4   2014-10-08 10:20:38  \n",
       "..                  ...  \n",
       "71  2015-10-23 19:06:07  \n",
       "72  2015-11-03 13:23:09  \n",
       "73  2015-12-16 21:43:50  \n",
       "74  2016-01-03 00:58:23  \n",
       "75  2016-01-19 13:01:47  \n",
       "\n",
       "[76 rows x 10 columns]"
      ]
     },
     "execution_count": 184,
     "metadata": {},
     "output_type": "execute_result"
    }
   ],
   "source": [
    "buses"
   ]
  },
  {
   "cell_type": "code",
   "execution_count": 187,
   "id": "7133bc54-f583-401d-a699-f9c6d590fd8f",
   "metadata": {},
   "outputs": [],
   "source": [
    "cars.to_csv(\"cars_data.csv\")"
   ]
  },
  {
   "cell_type": "code",
   "execution_count": 188,
   "id": "86942ab6-a1b6-4bad-bc81-792f9ee9b096",
   "metadata": {},
   "outputs": [],
   "source": [
    "buses.to_csv(\"buses_data.csv\")"
   ]
  }
 ],
 "metadata": {
  "kernelspec": {
   "display_name": "Python 3",
   "language": "python",
   "name": "python3"
  },
  "language_info": {
   "codemirror_mode": {
    "name": "ipython",
    "version": 3
   },
   "file_extension": ".py",
   "mimetype": "text/x-python",
   "name": "python",
   "nbconvert_exporter": "python",
   "pygments_lexer": "ipython3",
   "version": "3.8.8"
  }
 },
 "nbformat": 4,
 "nbformat_minor": 5
}
